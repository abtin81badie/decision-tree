{
 "cells": [
  {
   "cell_type": "code",
   "execution_count": 1,
   "metadata": {},
   "outputs": [],
   "source": [
    "\n",
    "import numpy as np\n",
    "import pandas as pd \n",
    "from collections import Counter\n",
    "from sklearn.model_selection import train_test_split\n",
    "from sklearn import datasets\n",
    "from sklearn.tree import DecisionTreeClassifier, plot_tree\n",
    "import matplotlib.pyplot as plt\n",
    "import graphviz \n",
    "from tqdm import tqdm\n",
    "import os \n",
    "import numpy as np\n",
    "import matplotlib.pyplot as plt\n",
    "from DecisionTree import DecisionTree\n",
    "from tqdm import tqdm\n"
   ]
  },
  {
   "cell_type": "code",
   "execution_count": 2,
   "metadata": {},
   "outputs": [
    {
     "name": "stdout",
     "output_type": "stream",
     "text": [
      "(100000, 8) (100000,)\n",
      "(2000, 8) (2000,)\n"
     ]
    }
   ],
   "source": [
    "\n",
    "\n",
    "def extract_features_and_labels(df):\n",
    "    x_t = df[['step', 'type', 'amount', 'oldbalanceOrg', 'newbalanceOrig', 'nameDest', 'oldbalanceDest', 'newbalanceDest']].to_numpy()\n",
    "    y_t = df['isFraud'].to_numpy()\n",
    "    return x_t, y_t\n",
    "\n",
    "df = pd.read_csv(\"onlinefraud.csv\").dropna().drop(\"nameOrig\", axis=1)\n",
    "# convert the dataframe to numpy arrays \n",
    "x_t,y_t=  extract_features_and_labels(df)\n",
    "# spliting data into train and test for nan Balance dataset\n",
    "\n",
    "X_train=x_t[:2000,:]\n",
    "y_train=y_t[:2000]\n",
    "\n",
    "X_test = x_t[2000:, :]\n",
    "y_test = y_t[2000:]\n",
    "print(x_t.shape,y_t.shape)\n",
    "print(X_train.shape,y_train.shape)\n",
    "\n",
    "\n"
   ]
  },
  {
   "cell_type": "code",
   "execution_count": 20,
   "metadata": {},
   "outputs": [
    {
     "data": {
      "image/png": "[encoded data removed]",
      "text/plain": [
       "<Figure size 640x480 with 1 Axes>"
      ]
     },
     "metadata": {},
     "output_type": "display_data"
    }
   ],
   "source": [
    "# spliting data into train and test for  Balance dataset\n",
    "def plot_isFraud_proportion(df):\n",
    "    \"\"\"\n",
    "    Plots a pie chart to show the proportion of isFraud in the given DataFrame.\n",
    "\n",
    "    Args:\n",
    "        df (pd.DataFrame): The DataFrame to plot the proportion for.\n",
    "    \"\"\"\n",
    "    # Calculate the proportion of isFraud\n",
    "    proportion = df['isFraud'].value_counts(normalize=True)\n",
    "\n",
    "    # Create a new figure\n",
    "    fig, ax = plt.subplots()\n",
    "\n",
    "    # Plot the pie chart\n",
    "    ax.pie(proportion, labels=proportion.index, autopct='%1.1f%%')\n",
    "\n",
    "    # Set the title and show the plot\n",
    "    ax.set_title('Proportion of isFraud')\n",
    "    plt.show()\n",
    "    \n",
    "df_froud = df[df['isFraud'] == 1].sample(frac = 1)\n",
    "df_not_froud= df_2 = df[df['isFraud'] == 0].sample(frac = 1)\n",
    "leng=int(len(df_froud)/2)\n",
    "df_train=pd.concat([df_froud.iloc[:leng],df_not_froud.iloc[:leng]])\n",
    "df_test=pd.concat([\n",
    "    df_froud.iloc[leng:],df_not_froud.iloc[leng:]\n",
    "])\n",
    "\n",
    "plot_isFraud_proportion(df_train)\n",
    "plt.show()\n",
    "X_train,y_train= extract_features_and_labels(df_train)\n",
    "X_test,y_test =extract_features_and_labels(df_test)\n"
   ]
  },
  {
   "cell_type": "code",
   "execution_count": 21,
   "metadata": {},
   "outputs": [
    {
     "name": "stdout",
     "output_type": "stream",
     "text": [
      "0.9435862858076908\n",
      "Split on feature 0 <= 6:\n",
      "-Split on feature 4 <= 6600948.54:\n",
      "--Split on feature 2 <= 9170.0:\n",
      "---Split on feature 1 <= PAYMENT:\n",
      "----Split on feature 3 <= 57589.0:\n",
      "-----Split on feature 5 <= M1040093935:\n",
      "------Leaf node with value: 1\n",
      "-----*Split on feature 6 <= 0.0:\n",
      "-----*-Split on feature 7 <= 0.0:\n",
      "-----*--Leaf node with value: 0\n",
      "-----*-*Leaf node with value: 0\n",
      "-----**Leaf node with value: 0\n",
      "----*Leaf node with value: 1\n",
      "---*Leaf node with value: 1\n",
      "--*Leaf node with value: 1\n",
      "-*Leaf node with value: 0\n",
      "*Leaf node with value: 0\n"
     ]
    }
   ],
   "source": [
    "\n",
    "from DecisionTree import DecisionTree\n",
    "\n",
    "clf = DecisionTree(max_depth=10,n_features=8,random_choice=True)\n",
    "clf.fit(X_train, y_train)\n",
    "predictions = clf.predict(X_test)\n",
    "\n",
    "def accuracy(y_test, y_pred):\n",
    "    return np.sum(y_test == y_pred) / len(y_test)\n",
    "acc = accuracy(y_test, predictions)\n",
    "print(acc)\n",
    "clf.print_tree()"
   ]
  },
  {
   "cell_type": "code",
   "execution_count": 13,
   "metadata": {},
   "outputs": [
    {
     "name": "stdout",
     "output_type": "stream",
     "text": [
      "0.9829492051816435\n"
     ]
    }
   ],
   "source": [
    "clf_gini= DecisionTree(max_depth=10,n_features=8,random_choice=True,mode=\"gini\")\n",
    "clf_gini.fit(X_train, y_train)\n",
    "predictions = clf_gini.predict(X_test)\n",
    "acc = accuracy(y_test, predictions)\n",
    "print(acc)"
   ]
  },
  {
   "cell_type": "code",
   "execution_count": 22,
   "metadata": {},
   "outputs": [
    {
     "name": "stderr",
     "output_type": "stream",
     "text": [
      "Classifying: 100%|██████████| 30/30 [03:03<00:00,  6.11s/run]\n"
     ]
    }
   ],
   "source": [
    "\n",
    "# Function to calculate accuracy\n",
    "def accuracy(y_test, y_pred):\n",
    "    return np.sum(y_test == y_pred) / len(y_test)\n",
    "\n",
    "# Lists to store accuracies\n",
    "accuracies_entropy = []\n",
    "accuracies_gini = []\n",
    "\n",
    "# Best classifier trackers\n",
    "best_acc_entropy = 0\n",
    "best_clf_entropy = None\n",
    "best_acc_gini = 0\n",
    "best_clf_gini = None\n",
    "\n",
    "# Perform 100 classifications with tqdm progress bar\n",
    "for _ in tqdm(range(30), desc='Classifying', unit='run'):\n",
    "    # Classification using entropy\n",
    "    clf_entropy = DecisionTree(max_depth=10, n_features=4, random_choice=True)\n",
    "    clf_entropy.fit(X_train, y_train)\n",
    "    predictions_entropy = clf_entropy.predict(X_test)\n",
    "    acc_entropy = accuracy(y_test, predictions_entropy)\n",
    "    accuracies_entropy.append(acc_entropy)\n",
    "    \n",
    "    # Keep the best classifier using entropy\n",
    "    if acc_entropy > best_acc_entropy:\n",
    "        best_acc_entropy = acc_entropy\n",
    "        best_clf_entropy = clf_entropy\n",
    "\n",
    "    # Classification using gini index\n",
    "    clf_gini = DecisionTree(max_depth=10, n_features=4, random_choice=True, mode=\"gini\")\n",
    "    clf_gini.fit(X_train, y_train)\n",
    "    predictions_gini = clf_gini.predict(X_test)\n",
    "    acc_gini = accuracy(y_test, predictions_gini)\n",
    "    accuracies_gini.append(acc_gini)\n",
    "    \n",
    "    # Keep the best classifier using gini index\n",
    "    if acc_gini > best_acc_gini:\n",
    "        best_acc_gini = acc_gini\n",
    "        best_clf_gini = clf_gini\n",
    "\n"
   ]
  },
  {
   "cell_type": "code",
   "execution_count": 24,
   "metadata": {},
   "outputs": [
    {
     "name": "stdout",
     "output_type": "stream",
     "text": [
      "Entropy - Mean: 0.8713453339326822, Std: 0.13555064843533488\n",
      "Gini - Mean: 0.7834208518927165, Std: 0.16836906755153744\n"
     ]
    },
    {
     "data": {
      "image/png": "[encoded data removed]",
      "text/plain": [
       "<Figure size 640x480 with 1 Axes>"
      ]
     },
     "metadata": {},
     "output_type": "display_data"
    }
   ],
   "source": [
    "# Calculate mean and standard deviation\n",
    "mean_entropy = np.mean(accuracies_entropy)\n",
    "std_entropy = np.std(accuracies_entropy)\n",
    "mean_gini = np.mean(accuracies_gini)\n",
    "std_gini = np.std(accuracies_gini)\n",
    "\n",
    "# Print results\n",
    "print(f\"Entropy - Mean: {mean_entropy}, Std: {std_entropy}\")\n",
    "print(f\"Gini - Mean: {mean_gini}, Std: {std_gini}\")\n",
    "\n",
    "# Compare results using a bar chart\n",
    "labels = ['Entropy', 'Gini']\n",
    "means = [mean_entropy, mean_gini]\n",
    "stds = [std_entropy, std_gini]\n",
    "\n",
    "x = np.arange(len(labels))  # the label locations\n",
    "width = 0.35  # the width of the bars\n",
    "\n",
    "fig, ax = plt.subplots()\n",
    "rects1 = ax.bar(x - width/2, means, width, label='Mean', yerr=stds, capsize=5)\n",
    "\n",
    "\n",
    "# Add some text for labels, title and custom x-axis tick labels, etc.\n",
    "ax.set_ylabel('Scores')\n",
    "ax.set_title('Scores by method and metric')\n",
    "ax.set_xticks(x)\n",
    "ax.set_xticklabels(labels)\n",
    "ax.legend()\n",
    "\n",
    "fig.tight_layout()\n",
    "\n",
    "plt.show()\n"
   ]
  },
  {
   "cell_type": "code",
   "execution_count": 15,
   "metadata": {},
   "outputs": [
    {
     "data": {
      "text/plain": [
       "'tree2.pdf'"
      ]
     },
     "execution_count": 15,
     "metadata": {},
     "output_type": "execute_result"
    }
   ],
   "source": [
    "# import json\n",
    "# from graphviz import Digraph\n",
    "\n",
    "# # Function to convert a decision tree to a JSON representation\n",
    "# def tree_to_json(node):\n",
    "#     if node.is_leaf_node():\n",
    "#         return {\"Leaf\": node.value}\n",
    "#     else:\n",
    "#         return {\n",
    "#             \"Feature\": node.feature,\n",
    "#             \"Threshold\": node.threshold,\n",
    "#             \"Left\": tree_to_json(node.left),\n",
    "#             \"Right\": tree_to_json(node.right)\n",
    "#         }\n",
    "\n",
    "# # Function to visualize a decision tree using graphviz\n",
    "# def visualize_tree(node, graph=None):\n",
    "#     if graph is None:\n",
    "#         graph = Digraph()\n",
    "#         graph.node(name=str(node), label=f\"Feature {node.feature}\\n<= {node.threshold}\")\n",
    "\n",
    "#     if node.is_leaf_node():\n",
    "#         graph.node(name=str(node) + \"L\", label=f\"Leaf: {node.value}\")\n",
    "#         graph.edge(str(node), str(node) + \"L\")\n",
    "#     else:\n",
    "#         graph.node(name=str(node.left), label=f\"Feature {node.left.feature}\\n<= {node.left.threshold}\")\n",
    "#         graph.node(name=str(node.right), label=f\"Feature {node.right.feature}\\n<= {node.right.threshold}\")\n",
    "#         graph.edge(str(node), str(node.left))\n",
    "#         graph.edge(str(node), str(node.right))\n",
    "#         if not node.left.is_leaf_node():\n",
    "#             visualize_tree(node.left, graph)\n",
    "#         if not node.right.is_leaf_node():\n",
    "#             visualize_tree(node.right, graph)\n",
    "#     return graph\n",
    "\n",
    "# # Example usage:\n",
    "# # Assuming 'root' is the root node of your decision tree\n",
    "# # Convert the tree to JSON\n",
    "# tree_json = tree_to_json(clf.root)\n",
    "# # Save the JSON to a file\n",
    "\n",
    "# # Visualize the tree\n",
    "# tree_graph = visualize_tree(clf.root)\n",
    "# tree_graph.render('tree2', view=True)\n"
   ]
  },
  {
   "cell_type": "code",
   "execution_count": 15,
   "metadata": {},
   "outputs": [
    {
     "name": "stdout",
     "output_type": "stream",
     "text": [
      "Split on feature 5 <= C1007251739:\n",
      "  Leaf node with value: 1\n",
      "  Split on feature 4 <= 716.3:\n",
      "    Split on feature 3 <= 2684.69:\n",
      "      Split on feature 2 <= 181.0:\n",
      "        Split on feature 1 <= PAYMENT:\n",
      "          Leaf node with value: 0\n",
      "          Leaf node with value: 1\n",
      "        Split on feature 7 <= 132842.64:\n",
      "          Split on feature 6 <= 0.0:\n",
      "            Split on feature 0 <= 1:\n",
      "              Leaf node with value: 0\n",
      "              Leaf node with value: 0\n",
      "            Leaf node with value: 0\n",
      "          Leaf node with value: 0\n",
      "      Leaf node with value: 0\n",
      "    Leaf node with value: 0\n"
     ]
    }
   ],
   "source": [
    "clf.print_tree()"
   ]
  },
  {
   "cell_type": "code",
   "execution_count": 12,
   "metadata": {},
   "outputs": [
    {
     "data": {
      "text/plain": [
       "(2, 3)"
      ]
     },
     "execution_count": 12,
     "metadata": {},
     "output_type": "execute_result"
    }
   ],
   "source": [
    "\n",
    "arr = np.array([[1, 2, 3], [4, 5, 6]])\n",
    "arr.shape"
   ]
  },
  {
   "cell_type": "code",
   "execution_count": null,
   "metadata": {},
   "outputs": [],
   "source": []
  },
  {
   "cell_type": "code",
   "execution_count": 19,
   "metadata": {},
   "outputs": [],
   "source": [
    "def print_tree(tree):\n",
    "    if clf.root.is_leaf_node():\n",
    "        print(clf.root.value)\n",
    "    else:\n",
    "        print()"
   ]
  },
  {
   "cell_type": "code",
   "execution_count": 15,
   "metadata": {},
   "outputs": [],
   "source": [
    "def print_tree(tree, node=None, indent=\"\"):\n",
    "    if node is None:\n",
    "        node = tree.root\n",
    "\n",
    "    if node.is_leaf_node():\n",
    "        print(f\"{indent}Leaf node with value: {node.value}\")\n",
    "    else:\n",
    "        if isinstance(node.threshold, str):\n",
    "            print(f\"{indent}Split on feature {node.feature} = {node.threshold}:\")\n",
    "        else:\n",
    "            print(f\"{indent}Split on feature {node.feature} <= {node.threshold}:\")\n",
    "            \n",
    "        print_tree(tree, node.left, indent + \"-\")\n",
    "        print_tree(tree, node.right, indent + \"-\")\n"
   ]
  },
  {
   "cell_type": "code",
   "execution_count": 21,
   "metadata": {},
   "outputs": [
    {
     "name": "stdout",
     "output_type": "stream",
     "text": [
      "\n"
     ]
    }
   ],
   "source": [
    "print_tree(clf)"
   ]
  },
  {
   "cell_type": "code",
   "execution_count": null,
   "metadata": {},
   "outputs": [],
   "source": []
  }
 ],
 "metadata": {
  "kernelspec": {
   "display_name": "base",
   "language": "python",
   "name": "python3"
  },
  "language_info": {
   "codemirror_mode": {
    "name": "ipython",
    "version": 3
   },
   "file_extension": ".py",
   "mimetype": "text/x-python",
   "name": "python",
   "nbconvert_exporter": "python",
   "pygments_lexer": "ipython3",
   "version": "3.12.2"
  }
 },
 "nbformat": 4,
 "nbformat_minor": 2
}
